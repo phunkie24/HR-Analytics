{
 "cells": [
  {
   "cell_type": "markdown",
   "id": "8bd07f63",
   "metadata": {},
   "source": [
    "# Linear Regression model of employees attrition"
   ]
  },
  {
   "cell_type": "code",
   "execution_count": 2,
   "id": "a597c5f7",
   "metadata": {},
   "outputs": [],
   "source": [
    "from pyspark.sql import SparkSession\n",
    "import pandas as pd\n",
    "from sklearn.model_selection import train_test_split\n",
    "from sklearn.preprocessing import LabelEncoder\n",
    "from sklearn.linear_model import LinearRegression\n",
    "from sklearn.metrics import mean_squared_error, r2_score"
   ]
  },
  {
   "cell_type": "code",
   "execution_count": 3,
   "id": "35a98c51",
   "metadata": {},
   "outputs": [],
   "source": [
    "# Initialize a Spark session\n",
    "spark = SparkSession.builder \\\n",
    "    .appName(\"HR Analytics\") \\\n",
    "    .getOrCreate()\n",
    "\n",
    "# File location and type\n",
    "file_location = r\"C:\\Users\\HP\\Downloads\\Big Data Analytics\\Data Science Projects\\Data Science Internship\\Project 3 - HR Analytics-20231111T083906Z-001\\Project 3 - HR Analytics\\Data P3 MeriSKILL\\HR-Employee-Attrition.csv\"\n",
    "file_type = \"csv\"\n",
    "\n",
    "# Read the CSV file into a Spark DataFrame\n",
    "df = spark.read.format(file_type) \\\n",
    "    .option(\"inferSchema\", \"true\") \\\n",
    "    .option(\"header\", \"true\") \\\n",
    "    .load(file_location)\n",
    "\n",
    "# Select the relevant columns\n",
    "columns = ['Age', 'Attrition', 'BusinessTravel', 'DailyRate', 'Department', 'DistanceFromHome',\n",
    "           'Education', 'EducationField', 'EmployeeCount', 'EmployeeNumber', 'EnvironmentSatisfaction',\n",
    "           'Gender', 'HourlyRate', 'JobInvolvement', 'JobLevel', 'JobRole', 'JobSatisfaction',\n",
    "           'MaritalStatus', 'MonthlyIncome', 'MonthlyRate', 'NumCompaniesWorked', 'Over18', 'OverTime',\n",
    "           'PercentSalaryHike', 'PerformanceRating', 'RelationshipSatisfaction', 'StandardHours',\n",
    "           'StockOptionLevel', 'TotalWorkingYears', 'TrainingTimesLastYear', 'WorkLifeBalance',\n",
    "           'YearsAtCompany', 'YearsInCurrentRole', 'YearsSinceLastPromotion', 'YearsWithCurrManager']\n",
    "\n",
    "df = df.select(columns)"
   ]
  },
  {
   "cell_type": "code",
   "execution_count": 4,
   "id": "7ff2b7fa",
   "metadata": {},
   "outputs": [],
   "source": [
    "# Convert the Spark DataFrame to a Pandas DataFrame\n",
    "pdf = df.toPandas()\n",
    "\n",
    "# Encode categorical variables\n",
    "le = LabelEncoder()\n",
    "for column in ['Attrition', 'BusinessTravel', 'Department', 'EducationField', 'Gender', 'JobRole', 'MaritalStatus', 'Over18', 'OverTime']:\n",
    "    pdf[column] = le.fit_transform(pdf[column])\n",
    "\n",
    "# Split the data into features (X) and target (y)\n",
    "X = pdf.drop(['MonthlyIncome'], axis=1)\n",
    "y = pdf['MonthlyIncome']\n",
    "\n",
    "# Split the data into training and testing sets\n",
    "X_train, X_test, y_train, y_test = train_test_split(X, y, test_size=0.3, random_state=42)"
   ]
  },
  {
   "cell_type": "code",
   "execution_count": 5,
   "id": "cd6990bf",
   "metadata": {},
   "outputs": [],
   "source": [
    "# Initialize and train the Linear Regression model\n",
    "lr_model = LinearRegression()\n",
    "lr_model.fit(X_train, y_train)\n",
    "\n",
    "# Predict on the test set\n",
    "y_pred = lr_model.predict(X_test)\n",
    "\n",
    "# Calculate evaluation metrics\n",
    "mse = mean_squared_error(y_test, y_pred)\n",
    "r2 = r2_score(y_test, y_pred)\n",
    "\n",
    "# Create a DataFrame to store the metrics\n",
    "metrics_df = pd.DataFrame({\n",
    "    'Metric': ['Mean Squared Error', 'R-squared'],\n",
    "    'Value': [mse, r2]\n",
    "})"
   ]
  },
  {
   "cell_type": "code",
   "execution_count": 6,
   "id": "566249a0",
   "metadata": {},
   "outputs": [
    {
     "name": "stdout",
     "output_type": "stream",
     "text": [
      "               Metric         Value\n",
      "0  Mean Squared Error  2.146123e+06\n",
      "1           R-squared  8.938893e-01\n",
      "\n",
      "Coefficients:\n",
      "                     Feature   Coefficient\n",
      "0                        Age -8.034155e+00\n",
      "1                  Attrition -8.223573e+00\n",
      "2             BusinessTravel  9.690321e+01\n",
      "3                  DailyRate  3.177521e-02\n",
      "4                 Department -5.986722e+02\n",
      "5           DistanceFromHome -1.170793e+01\n",
      "6                  Education  2.762346e+00\n",
      "7             EducationField -7.600703e-01\n",
      "8              EmployeeCount -5.684342e-14\n",
      "9             EmployeeNumber  6.847862e-02\n",
      "10   EnvironmentSatisfaction -5.831251e+01\n",
      "11                    Gender -7.688857e+01\n",
      "12                HourlyRate  2.141767e+00\n",
      "13            JobInvolvement -1.056614e+01\n",
      "14                  JobLevel  3.950741e+03\n",
      "15                   JobRole  7.482872e+01\n",
      "16           JobSatisfaction -3.157529e+01\n",
      "17             MaritalStatus  2.048638e+01\n",
      "18               MonthlyRate -1.652952e-03\n",
      "19        NumCompaniesWorked  2.358584e+01\n",
      "20                    Over18  6.821210e-13\n",
      "21                  OverTime  7.206148e+01\n",
      "22         PercentSalaryHike  4.553779e+00\n",
      "23         PerformanceRating -6.820041e+01\n",
      "24  RelationshipSatisfaction  4.318397e+01\n",
      "25             StandardHours -3.979039e-13\n",
      "26          StockOptionLevel  1.274986e+01\n",
      "27         TotalWorkingYears  3.636644e+01\n",
      "28     TrainingTimesLastYear  8.946881e+00\n",
      "29           WorkLifeBalance -4.687000e+01\n",
      "30            YearsAtCompany  1.407329e+01\n",
      "31        YearsInCurrentRole -6.200111e+00\n",
      "32   YearsSinceLastPromotion  2.942116e+01\n",
      "33      YearsWithCurrManager -5.212591e+01\n"
     ]
    }
   ],
   "source": [
    "# Display the metrics DataFrame\n",
    "print(metrics_df)\n",
    "\n",
    "# Display the coefficients\n",
    "coefficients_df = pd.DataFrame({\n",
    "    'Feature': X.columns,\n",
    "    'Coefficient': lr_model.coef_\n",
    "})\n",
    "\n",
    "# Display the coefficients DataFrame\n",
    "print(\"\\nCoefficients:\")\n",
    "print(coefficients_df)"
   ]
  },
  {
   "cell_type": "code",
   "execution_count": null,
   "id": "ceb761f0",
   "metadata": {},
   "outputs": [],
   "source": []
  }
 ],
 "metadata": {
  "kernelspec": {
   "display_name": "Python 3 (ipykernel)",
   "language": "python",
   "name": "python3"
  },
  "language_info": {
   "codemirror_mode": {
    "name": "ipython",
    "version": 3
   },
   "file_extension": ".py",
   "mimetype": "text/x-python",
   "name": "python",
   "nbconvert_exporter": "python",
   "pygments_lexer": "ipython3",
   "version": "3.11.8"
  }
 },
 "nbformat": 4,
 "nbformat_minor": 5
}
