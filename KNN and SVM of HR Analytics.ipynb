{
 "cells": [
  {
   "cell_type": "code",
   "execution_count": 14,
   "id": "f31c6a22",
   "metadata": {},
   "outputs": [],
   "source": [
    "from pyspark.sql import SparkSession\n",
    "import pandas as pd\n",
    "import matplotlib.pyplot as plt\n",
    "import seaborn as sns\n",
    "from sklearn.neighbors import KNeighborsClassifier\n",
    "from sklearn.svm import SVC\n",
    "from sklearn.metrics import accuracy_score, classification_report, confusion_matrix\n",
    "from sklearn.preprocessing import LabelEncoder\n",
    "from sklearn.model_selection import train_test_split"
   ]
  },
  {
   "cell_type": "code",
   "execution_count": 15,
   "id": "ce291bc8",
   "metadata": {},
   "outputs": [],
   "source": [
    "# Initialize a Spark session\n",
    "spark = SparkSession.builder \\\n",
    "    .appName(\"HR Analytics\") \\\n",
    "    .getOrCreate()\n",
    "\n",
    "# File location and type\n",
    "file_location = r\"C:\\Users\\HP\\Downloads\\Big Data Analytics\\Data Science Projects\\Data Science Internship\\Project 3 - HR Analytics-20231111T083906Z-001\\Project 3 - HR Analytics\\Data P3 MeriSKILL\\HR-Employee-Attrition.csv\"\n",
    "file_type = \"csv\"\n",
    "\n",
    "# Read the CSV file into a Spark DataFrame\n",
    "df = spark.read.format(file_type) \\\n",
    "    .option(\"inferSchema\", \"true\") \\\n",
    "    .option(\"header\", \"true\") \\\n",
    "    .load(file_location)\n",
    "\n",
    "# Select the relevant columns\n",
    "columns = ['Age', 'Attrition', 'BusinessTravel', 'DailyRate', 'Department', 'DistanceFromHome',\n",
    "           'Education', 'EducationField', 'EmployeeCount', 'EmployeeNumber', 'EnvironmentSatisfaction',\n",
    "           'Gender', 'HourlyRate', 'JobInvolvement', 'JobLevel', 'JobRole', 'JobSatisfaction',\n",
    "           'MaritalStatus', 'MonthlyIncome', 'MonthlyRate', 'NumCompaniesWorked', 'Over18', 'OverTime',\n",
    "           'PercentSalaryHike', 'PerformanceRating', 'RelationshipSatisfaction', 'StandardHours',\n",
    "           'StockOptionLevel', 'TotalWorkingYears', 'TrainingTimesLastYear', 'WorkLifeBalance',\n",
    "           'YearsAtCompany', 'YearsInCurrentRole', 'YearsSinceLastPromotion', 'YearsWithCurrManager']\n",
    "\n",
    "df = df.select(columns)\n",
    "\n",
    "# Convert the Spark DataFrame to a Pandas DataFrame\n",
    "pdf = df.toPandas()"
   ]
  },
  {
   "cell_type": "code",
   "execution_count": 16,
   "id": "c738c96a",
   "metadata": {},
   "outputs": [],
   "source": [
    "# Encode categorical variables\n",
    "le = LabelEncoder()\n",
    "for column in ['Attrition', 'BusinessTravel', 'Department', 'EducationField', 'Gender', 'JobRole', 'MaritalStatus', 'Over18', 'OverTime']:\n",
    "    pdf[column] = le.fit_transform(pdf[column])\n",
    "\n",
    "# Split the data into features (X) and target (y)\n",
    "X = pdf.drop(['Attrition'], axis=1)\n",
    "y = pdf['Attrition']\n",
    "\n",
    "# Split the data into training and testing sets\n",
    "X_train, X_test, y_train, y_test = train_test_split(X, y, test_size=0.3, random_state=42)"
   ]
  },
  {
   "cell_type": "code",
   "execution_count": 20,
   "id": "0d3c7d8b",
   "metadata": {},
   "outputs": [],
   "source": [
    "### KNN Model ###\n",
    "knn = KNeighborsClassifier(n_neighbors=5)\n",
    "knn.fit(X_train, y_train)\n",
    "y_pred_knn = knn.predict(X_test)\n",
    "\n",
    "# Calculate evaluation metrics for KNN\n",
    "accuracy_knn = accuracy_score(y_test, y_pred_knn)\n",
    "report_knn = classification_report(y_test, y_pred_knn, output_dict=True)\n",
    "conf_matrix_knn = confusion_matrix(y_test, y_pred_knn)\n",
    "\n",
    "# Convert classification report to DataFrame for KNN\n",
    "report_df_knn = pd.DataFrame(report_knn).transpose()"
   ]
  },
  {
   "cell_type": "code",
   "execution_count": 22,
   "id": "65f3e883",
   "metadata": {
    "scrolled": true
   },
   "outputs": [],
   "source": [
    "### SVM Model ###\n",
    "svm = SVC(kernel='linear', random_state=42)\n",
    "svm.fit(X_train, y_train)\n",
    "y_pred_svm = svm.predict(X_test)\n",
    "\n",
    "# Calculate evaluation metrics for SVM\n",
    "accuracy_svm = accuracy_score(y_test, y_pred_svm)\n",
    "report_svm = classification_report(y_test, y_pred_svm, output_dict=True)\n",
    "conf_matrix_svm = confusion_matrix(y_test, y_pred_svm)"
   ]
  },
  {
   "cell_type": "code",
   "execution_count": 23,
   "id": "bf48bcbf",
   "metadata": {},
   "outputs": [
    {
     "name": "stdout",
     "output_type": "stream",
     "text": [
      "KNN Model Metrics:\n",
      "              precision    recall  f1-score     support\n",
      "0              0.868932  0.942105  0.904040  380.000000\n",
      "1              0.241379  0.114754  0.155556   61.000000\n",
      "accuracy       0.827664  0.827664  0.827664    0.827664\n",
      "macro avg      0.555156  0.528430  0.529798  441.000000\n",
      "weighted avg   0.782128  0.827664  0.800508  441.000000\n",
      "\n",
      "Confusion Matrix for KNN:\n",
      "[[358  22]\n",
      " [ 54   7]]\n",
      "\n",
      "SVM Model Metrics:\n",
      "              precision    recall  f1-score    support\n",
      "0              0.866359  0.989474  0.923833  380.00000\n",
      "1              0.428571  0.049180  0.088235   61.00000\n",
      "accuracy       0.859410  0.859410  0.859410    0.85941\n",
      "macro avg      0.647465  0.519327  0.506034  441.00000\n",
      "weighted avg   0.805804  0.859410  0.808251  441.00000\n",
      "\n",
      "Confusion Matrix for SVM:\n",
      "[[376   4]\n",
      " [ 58   3]]\n"
     ]
    }
   ],
   "source": [
    "# Convert classification report to DataFrame for SVM\n",
    "report_df_svm = pd.DataFrame(report_svm).transpose()\n",
    "\n",
    "# Display the metrics\n",
    "print(\"KNN Model Metrics:\")\n",
    "print(report_df_knn)\n",
    "print(\"\\nConfusion Matrix for KNN:\")\n",
    "print(conf_matrix_knn)\n",
    "\n",
    "print(\"\\nSVM Model Metrics:\")\n",
    "print(report_df_svm)\n",
    "print(\"\\nConfusion Matrix for SVM:\")\n",
    "print(conf_matrix_svm)"
   ]
  },
  {
   "cell_type": "code",
   "execution_count": 24,
   "id": "a0d5aa96",
   "metadata": {},
   "outputs": [
    {
     "data": {
      "text/plain": [
       "Text(120.72222222222221, 0.5, 'Actual')"
      ]
     },
     "execution_count": 24,
     "metadata": {},
     "output_type": "execute_result"
    },
    {
     "data": {
      "image/png": "[encoded data removed]",
      "text/plain": [
       "<Figure size 1200x600 with 1 Axes>"
      ]
     },
     "metadata": {},
     "output_type": "display_data"
    }
   ],
   "source": [
    "# Visualize Confusion Matrix for KNN\n",
    "plt.figure(figsize=(12, 6))\n",
    "plt.subplot(1, 2, 1)\n",
    "sns.heatmap(conf_matrix_knn, annot=True, fmt='d', cmap='Blues', cbar=False)\n",
    "plt.title('KNN Confusion Matrix')\n",
    "plt.xlabel('Predicted')\n",
    "plt.ylabel('Actual')"
   ]
  },
  {
   "cell_type": "code",
   "execution_count": 21,
   "id": "e5d9b510",
   "metadata": {},
   "outputs": [
    {
     "data": {
      "image/png": "[encoded data removed]",
      "text/plain": [
       "<Figure size 640x480 with 1 Axes>"
      ]
     },
     "metadata": {},
     "output_type": "display_data"
    }
   ],
   "source": [
    "# Visualize Confusion Matrix for SVM\n",
    "plt.subplot(1, 2, 2)\n",
    "sns.heatmap(conf_matrix_svm, annot=True, fmt='d', cmap='Reds', cbar=False)\n",
    "plt.title('SVM Confusion Matrix')\n",
    "plt.xlabel('Predicted')\n",
    "plt.ylabel('Actual')\n",
    "\n",
    "plt.tight_layout()\n",
    "plt.show()\n"
   ]
  },
  {
   "cell_type": "code",
   "execution_count": null,
   "id": "3200accb",
   "metadata": {},
   "outputs": [],
   "source": []
  }
 ],
 "metadata": {
  "kernelspec": {
   "display_name": "Python 3 (ipykernel)",
   "language": "python",
   "name": "python3"
  },
  "language_info": {
   "codemirror_mode": {
    "name": "ipython",
    "version": 3
   },
   "file_extension": ".py",
   "mimetype": "text/x-python",
   "name": "python",
   "nbconvert_exporter": "python",
   "pygments_lexer": "ipython3",
   "version": "3.11.8"
  }
 },
 "nbformat": 4,
 "nbformat_minor": 5
}
